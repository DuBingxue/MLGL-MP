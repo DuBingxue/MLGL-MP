{
 "cells": [
  {
   "cell_type": "code",
   "execution_count": 1,
   "id": "4d7b1e43",
   "metadata": {},
   "outputs": [],
   "source": [
    "import pandas as pd\n",
    "import numpy as np\n",
    "from sklearn.preprocessing import MultiLabelBinarizer\n",
    "import pickle"
   ]
  },
  {
   "cell_type": "code",
   "execution_count": 2,
   "id": "2fe23aaf",
   "metadata": {},
   "outputs": [
    {
     "data": {
      "text/plain": [
       "array([[1, 1, 0, ..., 1, 1, 1],\n",
       "       [1, 1, 1, ..., 1, 1, 1],\n",
       "       [1, 0, 0, ..., 0, 1, 0],\n",
       "       ...,\n",
       "       [0, 0, 0, ..., 0, 0, 1],\n",
       "       [0, 0, 0, ..., 0, 0, 1],\n",
       "       [0, 0, 0, ..., 0, 0, 1]])"
      ]
     },
     "execution_count": 2,
     "metadata": {},
     "output_type": "execute_result"
    }
   ],
   "source": [
    "df = pd.read_csv('train_set.csv')\n",
    "train_Y = np.array(pd.DataFrame(df['Label'])).tolist()\n",
    "list_1 = []\n",
    "list_2 = []\n",
    "for i in train_Y:\n",
    "    list_2 = [int(i) for i in i[0].split(',')]\n",
    "    list_1.append(list_2)\n",
    "Train_Y = MultiLabelBinarizer().fit_transform(list_1)\n",
    "train_Y = np.asarray(Train_Y.tolist())\n",
    "train_Y"
   ]
  },
  {
   "cell_type": "code",
   "execution_count": 3,
   "id": "2715ad38",
   "metadata": {},
   "outputs": [
    {
     "data": {
      "text/plain": [
       "(array([[0., 0., 0., 0., 0., 0., 0., 0., 0., 0., 0.],\n",
       "        [0., 0., 0., 0., 0., 0., 0., 0., 0., 0., 0.],\n",
       "        [0., 0., 0., 0., 0., 0., 0., 0., 0., 0., 0.],\n",
       "        [0., 0., 0., 0., 0., 0., 0., 0., 0., 0., 0.],\n",
       "        [0., 0., 0., 0., 0., 0., 0., 0., 0., 0., 0.],\n",
       "        [0., 0., 0., 0., 0., 0., 0., 0., 0., 0., 0.],\n",
       "        [0., 0., 0., 0., 0., 0., 0., 0., 0., 0., 0.],\n",
       "        [0., 0., 0., 0., 0., 0., 0., 0., 0., 0., 0.],\n",
       "        [0., 0., 0., 0., 0., 0., 0., 0., 0., 0., 0.],\n",
       "        [0., 0., 0., 0., 0., 0., 0., 0., 0., 0., 0.],\n",
       "        [0., 0., 0., 0., 0., 0., 0., 0., 0., 0., 0.]]),\n",
       " array([0., 0., 0., 0., 0., 0., 0., 0., 0., 0., 0.]))"
      ]
     },
     "execution_count": 3,
     "metadata": {},
     "output_type": "execute_result"
    }
   ],
   "source": [
    "# adj_matrix表示相关性矩阵，相关矩阵主要是标签a出现时标签b,c,d出现的个数，标签b出现时a,c,d出现的个数这样的…是一个对称矩阵\n",
    "# nums_matrix保存的则是标签a,b,c,d分别出现的次数\n",
    "nums_matrix = np.zeros(shape=11)\n",
    "adj_matrix = np.zeros(shape=(11,11))\n",
    "adj_matrix,nums_matrix "
   ]
  },
  {
   "cell_type": "code",
   "execution_count": 4,
   "id": "ddc1bb42",
   "metadata": {},
   "outputs": [
    {
     "data": {
      "text/plain": [
       "{'adj': array([[  0., 473., 283., 126., 449., 255., 163., 253., 257., 331., 298.],\n",
       "        [473.,   0., 203., 131., 443., 274., 111., 257., 219., 276., 288.],\n",
       "        [283., 203.,   0.,  67., 228., 151., 146., 142., 236., 227., 184.],\n",
       "        [126., 131.,  67.,   0., 133.,  97.,  45.,  98.,  69., 111.,  96.],\n",
       "        [449., 443., 228., 133.,   0., 341., 109., 306., 275., 496., 414.],\n",
       "        [255., 274., 151.,  97., 341.,   0., 104., 192., 168., 283., 194.],\n",
       "        [163., 111., 146.,  45., 109., 104.,   0., 129., 133., 157.,  74.],\n",
       "        [253., 257., 142.,  98., 306., 192., 129.,   0., 204., 264., 178.],\n",
       "        [257., 219., 236.,  69., 275., 168., 133., 204.,   0., 339., 205.],\n",
       "        [331., 276., 227., 111., 496., 283., 157., 264., 339.,   0., 216.],\n",
       "        [298., 288., 184.,  96., 414., 194.,  74., 178., 205., 216.,   0.]]),\n",
       " 'nums': array([1013.,  668.,  960.,  310., 1269.,  539.,  294.,  839., 1356.,\n",
       "        1713., 1304.])}"
      ]
     },
     "execution_count": 4,
     "metadata": {},
     "output_type": "execute_result"
    }
   ],
   "source": [
    "for index in range(len(train_Y)):\n",
    "    data = train_Y[index]\n",
    "    for i in range(11):\n",
    "        if data[i] == 1:\n",
    "            nums_matrix[i] += 1\n",
    "            for j in range(11):\n",
    "                if j != i:\n",
    "                    if data[j] == 1:\n",
    "                        adj_matrix[i][j] += 1\n",
    "\n",
    "adj = {'adj': adj_matrix,\n",
    "       'nums': nums_matrix}\n",
    "adj"
   ]
  },
  {
   "cell_type": "code",
   "execution_count": 5,
   "id": "a5bd5d28",
   "metadata": {},
   "outputs": [],
   "source": [
    "pickle.dump(adj, open('./adj.pkl', 'wb'), pickle.HIGHEST_PROTOCOL)"
   ]
  },
  {
   "cell_type": "code",
   "execution_count": null,
   "id": "0517c8d4",
   "metadata": {},
   "outputs": [],
   "source": []
  }
 ],
 "metadata": {
  "kernelspec": {
   "display_name": "Python 3",
   "language": "python",
   "name": "python3"
  },
  "language_info": {
   "codemirror_mode": {
    "name": "ipython",
    "version": 3
   },
   "file_extension": ".py",
   "mimetype": "text/x-python",
   "name": "python",
   "nbconvert_exporter": "python",
   "pygments_lexer": "ipython3",
   "version": "3.8.10"
  },
  "toc": {
   "base_numbering": 1,
   "nav_menu": {},
   "number_sections": true,
   "sideBar": true,
   "skip_h1_title": false,
   "title_cell": "Table of Contents",
   "title_sidebar": "Contents",
   "toc_cell": false,
   "toc_position": {},
   "toc_section_display": true,
   "toc_window_display": false
  },
  "varInspector": {
   "cols": {
    "lenName": 16,
    "lenType": 16,
    "lenVar": 40
   },
   "kernels_config": {
    "python": {
     "delete_cmd_postfix": "",
     "delete_cmd_prefix": "del ",
     "library": "var_list.py",
     "varRefreshCmd": "print(var_dic_list())"
    },
    "r": {
     "delete_cmd_postfix": ") ",
     "delete_cmd_prefix": "rm(",
     "library": "var_list.r",
     "varRefreshCmd": "cat(var_dic_list()) "
    }
   },
   "types_to_exclude": [
    "module",
    "function",
    "builtin_function_or_method",
    "instance",
    "_Feature"
   ],
   "window_display": false
  }
 },
 "nbformat": 4,
 "nbformat_minor": 5
}
