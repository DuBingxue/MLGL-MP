{
 "cells": [
  {
   "cell_type": "code",
   "execution_count": 1,
   "id": "4d7b1e43",
   "metadata": {},
   "outputs": [],
   "source": [
    "import pandas as pd\n",
    "import numpy as np\n",
    "from sklearn.preprocessing import MultiLabelBinarizer\n",
    "import pickle"
   ]
  },
  {
   "cell_type": "code",
   "execution_count": 2,
   "id": "2fe23aaf",
   "metadata": {},
   "outputs": [
    {
     "data": {
      "text/plain": [
       "array([[1, 1, 0, ..., 1, 1, 1],\n",
       "       [1, 1, 1, ..., 1, 1, 1],\n",
       "       [1, 0, 0, ..., 0, 1, 0],\n",
       "       ...,\n",
       "       [0, 0, 0, ..., 0, 0, 1],\n",
       "       [0, 0, 0, ..., 0, 0, 1],\n",
       "       [0, 0, 0, ..., 0, 0, 1]])"
      ]
     },
     "execution_count": 2,
     "metadata": {},
     "output_type": "execute_result"
    }
   ],
   "source": [
    "df = pd.read_csv('train_set.csv')\n",
    "train_Y = np.array(pd.DataFrame(df['Label'])).tolist()\n",
    "list_1 = []\n",
    "list_2 = []\n",
    "for i in train_Y:\n",
    "    list_2 = [int(i) for i in i[0].split(',')]\n",
    "    list_1.append(list_2)\n",
    "Train_Y = MultiLabelBinarizer().fit_transform(list_1)\n",
    "train_Y = np.asarray(Train_Y.tolist())\n",
    "train_Y"
   ]
  },
  {
   "cell_type": "code",
   "execution_count": 3,
   "id": "2715ad38",
   "metadata": {},
   "outputs": [
    {
     "data": {
      "text/plain": [
       "(array([[0., 0., 0., 0., 0., 0., 0., 0., 0., 0., 0.],\n",
       "        [0., 0., 0., 0., 0., 0., 0., 0., 0., 0., 0.],\n",
       "        [0., 0., 0., 0., 0., 0., 0., 0., 0., 0., 0.],\n",
       "        [0., 0., 0., 0., 0., 0., 0., 0., 0., 0., 0.],\n",
       "        [0., 0., 0., 0., 0., 0., 0., 0., 0., 0., 0.],\n",
       "        [0., 0., 0., 0., 0., 0., 0., 0., 0., 0., 0.],\n",
       "        [0., 0., 0., 0., 0., 0., 0., 0., 0., 0., 0.],\n",
       "        [0., 0., 0., 0., 0., 0., 0., 0., 0., 0., 0.],\n",
       "        [0., 0., 0., 0., 0., 0., 0., 0., 0., 0., 0.],\n",
       "        [0., 0., 0., 0., 0., 0., 0., 0., 0., 0., 0.],\n",
       "        [0., 0., 0., 0., 0., 0., 0., 0., 0., 0., 0.]]),\n",
       " array([0., 0., 0., 0., 0., 0., 0., 0., 0., 0., 0.]))"
      ]
     },
     "execution_count": 3,
     "metadata": {},
     "output_type": "execute_result"
    }
   ],
   "source": [
    "# adj_matrix表示相关性矩阵，相关矩阵主要是标签a出现时标签b,c,d出现的个数，标签b出现时a,c,d出现的个数这样的…是一个对称矩阵\n",
    "# nums_matrix保存的则是标签a,b,c,d分别出现的次数\n",
    "nums_matrix = np.zeros(shape=11)\n",
    "adj_matrix = np.zeros(shape=(11,11))\n",
    "adj_matrix,nums_matrix "
   ]
  },
  {
   "cell_type": "code",
   "execution_count": 4,
   "id": "ddc1bb42",
   "metadata": {},
   "outputs": [
    {
     "data": {
      "text/plain": [
       "{'adj': array([[  0., 472., 288., 124., 443., 257., 160., 249., 262., 337., 303.],\n",
       "        [472.,   0., 205., 124., 447., 275., 107., 256., 221., 277., 293.],\n",
       "        [288., 205.,   0.,  64., 228., 153., 151., 137., 245., 236., 186.],\n",
       "        [124., 124.,  64.,   0., 122.,  96.,  42.,  95.,  69., 113.,  89.],\n",
       "        [443., 447., 228., 122.,   0., 337., 111., 312., 286., 509., 419.],\n",
       "        [257., 275., 153.,  96., 337.,   0., 105., 187., 170., 285., 195.],\n",
       "        [160., 107., 151.,  42., 111., 105.,   0., 125., 136., 160.,  76.],\n",
       "        [249., 256., 137.,  95., 312., 187., 125.,   0., 203., 268., 177.],\n",
       "        [262., 221., 245.,  69., 286., 170., 136., 203.,   0., 344., 209.],\n",
       "        [337., 277., 236., 113., 509., 285., 160., 268., 344.,   0., 220.],\n",
       "        [303., 293., 186.,  89., 419., 195.,  76., 177., 209., 220.,   0.]]),\n",
       " 'nums': array([1018.,  672.,  977.,  303., 1300.,  534.,  294.,  848., 1329.,\n",
       "        1732., 1304.])}"
      ]
     },
     "execution_count": 4,
     "metadata": {},
     "output_type": "execute_result"
    }
   ],
   "source": [
    "for index in range(len(train_Y)):\n",
    "    data = train_Y[index]\n",
    "    for i in range(11):\n",
    "        if data[i] == 1:\n",
    "            nums_matrix[i] += 1\n",
    "            for j in range(11):\n",
    "                if j != i:\n",
    "                    if data[j] == 1:\n",
    "                        adj_matrix[i][j] += 1\n",
    "\n",
    "adj = {'adj': adj_matrix,\n",
    "       'nums': nums_matrix}\n",
    "adj"
   ]
  },
  {
   "cell_type": "code",
   "execution_count": 5,
   "id": "a5bd5d28",
   "metadata": {},
   "outputs": [],
   "source": [
    "pickle.dump(adj, open('./adj.pkl', 'wb'), pickle.HIGHEST_PROTOCOL)"
   ]
  },
  {
   "cell_type": "code",
   "execution_count": null,
   "id": "0517c8d4",
   "metadata": {},
   "outputs": [],
   "source": []
  }
 ],
 "metadata": {
  "kernelspec": {
   "display_name": "Python 3",
   "language": "python",
   "name": "python3"
  },
  "language_info": {
   "codemirror_mode": {
    "name": "ipython",
    "version": 3
   },
   "file_extension": ".py",
   "mimetype": "text/x-python",
   "name": "python",
   "nbconvert_exporter": "python",
   "pygments_lexer": "ipython3",
   "version": "3.8.10"
  },
  "toc": {
   "base_numbering": 1,
   "nav_menu": {},
   "number_sections": true,
   "sideBar": true,
   "skip_h1_title": false,
   "title_cell": "Table of Contents",
   "title_sidebar": "Contents",
   "toc_cell": false,
   "toc_position": {},
   "toc_section_display": true,
   "toc_window_display": false
  },
  "varInspector": {
   "cols": {
    "lenName": 16,
    "lenType": 16,
    "lenVar": 40
   },
   "kernels_config": {
    "python": {
     "delete_cmd_postfix": "",
     "delete_cmd_prefix": "del ",
     "library": "var_list.py",
     "varRefreshCmd": "print(var_dic_list())"
    },
    "r": {
     "delete_cmd_postfix": ") ",
     "delete_cmd_prefix": "rm(",
     "library": "var_list.r",
     "varRefreshCmd": "cat(var_dic_list()) "
    }
   },
   "types_to_exclude": [
    "module",
    "function",
    "builtin_function_or_method",
    "instance",
    "_Feature"
   ],
   "window_display": false
  }
 },
 "nbformat": 4,
 "nbformat_minor": 5
}
