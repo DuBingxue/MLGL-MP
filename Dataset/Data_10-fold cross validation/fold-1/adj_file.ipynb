{
 "cells": [
  {
   "cell_type": "code",
   "execution_count": 1,
   "id": "4d7b1e43",
   "metadata": {},
   "outputs": [],
   "source": [
    "import pandas as pd\n",
    "import numpy as np\n",
    "from sklearn.preprocessing import MultiLabelBinarizer\n",
    "import pickle"
   ]
  },
  {
   "cell_type": "code",
   "execution_count": 2,
   "id": "2fe23aaf",
   "metadata": {},
   "outputs": [
    {
     "data": {
      "text/plain": [
       "array([[1, 1, 0, ..., 1, 1, 1],\n",
       "       [1, 1, 1, ..., 1, 1, 1],\n",
       "       [1, 0, 0, ..., 0, 1, 0],\n",
       "       ...,\n",
       "       [0, 0, 0, ..., 0, 0, 1],\n",
       "       [0, 0, 0, ..., 0, 0, 1],\n",
       "       [0, 0, 0, ..., 0, 0, 1]])"
      ]
     },
     "execution_count": 2,
     "metadata": {},
     "output_type": "execute_result"
    }
   ],
   "source": [
    "df = pd.read_csv('train_set.csv')\n",
    "train_Y = np.array(pd.DataFrame(df['Label'])).tolist()\n",
    "list_1 = []\n",
    "list_2 = []\n",
    "for i in train_Y:\n",
    "    list_2 = [int(i) for i in i[0].split(',')]\n",
    "    list_1.append(list_2)\n",
    "Train_Y = MultiLabelBinarizer().fit_transform(list_1)\n",
    "train_Y = np.asarray(Train_Y.tolist())\n",
    "train_Y"
   ]
  },
  {
   "cell_type": "code",
   "execution_count": 3,
   "id": "2715ad38",
   "metadata": {},
   "outputs": [
    {
     "data": {
      "text/plain": [
       "(array([[0., 0., 0., 0., 0., 0., 0., 0., 0., 0., 0.],\n",
       "        [0., 0., 0., 0., 0., 0., 0., 0., 0., 0., 0.],\n",
       "        [0., 0., 0., 0., 0., 0., 0., 0., 0., 0., 0.],\n",
       "        [0., 0., 0., 0., 0., 0., 0., 0., 0., 0., 0.],\n",
       "        [0., 0., 0., 0., 0., 0., 0., 0., 0., 0., 0.],\n",
       "        [0., 0., 0., 0., 0., 0., 0., 0., 0., 0., 0.],\n",
       "        [0., 0., 0., 0., 0., 0., 0., 0., 0., 0., 0.],\n",
       "        [0., 0., 0., 0., 0., 0., 0., 0., 0., 0., 0.],\n",
       "        [0., 0., 0., 0., 0., 0., 0., 0., 0., 0., 0.],\n",
       "        [0., 0., 0., 0., 0., 0., 0., 0., 0., 0., 0.],\n",
       "        [0., 0., 0., 0., 0., 0., 0., 0., 0., 0., 0.]]),\n",
       " array([0., 0., 0., 0., 0., 0., 0., 0., 0., 0., 0.]))"
      ]
     },
     "execution_count": 3,
     "metadata": {},
     "output_type": "execute_result"
    }
   ],
   "source": [
    "# adj_matrix表示相关性矩阵，相关矩阵主要是标签a出现时标签b,c,d出现的个数，标签b出现时a,c,d出现的个数这样的…是一个对称矩阵\n",
    "# nums_matrix保存的则是标签a,b,c,d分别出现的次数\n",
    "nums_matrix = np.zeros(shape=11)\n",
    "adj_matrix = np.zeros(shape=(11,11))\n",
    "adj_matrix,nums_matrix "
   ]
  },
  {
   "cell_type": "code",
   "execution_count": 4,
   "id": "ddc1bb42",
   "metadata": {},
   "outputs": [
    {
     "data": {
      "text/plain": [
       "{'adj': array([[  0., 472., 286., 126., 456., 259., 165., 256., 257., 324., 309.],\n",
       "        [472.,   0., 203., 137., 461., 281., 112., 269., 223., 287., 299.],\n",
       "        [286., 203.,   0.,  67., 233., 152., 145., 139., 240., 225., 187.],\n",
       "        [126., 137.,  67.,   0., 134.,  98.,  46.,  96.,  73., 117.,  98.],\n",
       "        [456., 461., 233., 134.,   0., 351., 112., 325., 287., 512., 427.],\n",
       "        [259., 281., 152.,  98., 351.,   0., 107., 198., 172., 292., 197.],\n",
       "        [165., 112., 145.,  46., 112., 107.,   0., 124., 131., 150.,  79.],\n",
       "        [256., 269., 139.,  96., 325., 198., 124.,   0., 201., 268., 184.],\n",
       "        [257., 223., 240.,  73., 287., 172., 131., 201.,   0., 335., 211.],\n",
       "        [324., 287., 225., 117., 512., 292., 150., 268., 335.,   0., 225.],\n",
       "        [309., 299., 187.,  98., 427., 197.,  79., 184., 211., 225.,   0.]]),\n",
       " 'nums': array([1019.,  681.,  949.,  314., 1299.,  543.,  287.,  855., 1352.,\n",
       "        1721., 1304.])}"
      ]
     },
     "execution_count": 4,
     "metadata": {},
     "output_type": "execute_result"
    }
   ],
   "source": [
    "for index in range(len(train_Y)):\n",
    "    data = train_Y[index]\n",
    "    for i in range(11):\n",
    "        if data[i] == 1:\n",
    "            nums_matrix[i] += 1\n",
    "            for j in range(11):\n",
    "                if j != i:\n",
    "                    if data[j] == 1:\n",
    "                        adj_matrix[i][j] += 1\n",
    "\n",
    "adj = {'adj': adj_matrix,\n",
    "       'nums': nums_matrix}\n",
    "adj"
   ]
  },
  {
   "cell_type": "code",
   "execution_count": 5,
   "id": "a5bd5d28",
   "metadata": {},
   "outputs": [],
   "source": [
    "pickle.dump(adj, open('./adj.pkl', 'wb'), pickle.HIGHEST_PROTOCOL)"
   ]
  },
  {
   "cell_type": "code",
   "execution_count": null,
   "id": "0517c8d4",
   "metadata": {},
   "outputs": [],
   "source": []
  }
 ],
 "metadata": {
  "kernelspec": {
   "display_name": "Python 3",
   "language": "python",
   "name": "python3"
  },
  "language_info": {
   "codemirror_mode": {
    "name": "ipython",
    "version": 3
   },
   "file_extension": ".py",
   "mimetype": "text/x-python",
   "name": "python",
   "nbconvert_exporter": "python",
   "pygments_lexer": "ipython3",
   "version": "3.8.10"
  },
  "toc": {
   "base_numbering": 1,
   "nav_menu": {},
   "number_sections": true,
   "sideBar": true,
   "skip_h1_title": false,
   "title_cell": "Table of Contents",
   "title_sidebar": "Contents",
   "toc_cell": false,
   "toc_position": {},
   "toc_section_display": true,
   "toc_window_display": false
  },
  "varInspector": {
   "cols": {
    "lenName": 16,
    "lenType": 16,
    "lenVar": 40
   },
   "kernels_config": {
    "python": {
     "delete_cmd_postfix": "",
     "delete_cmd_prefix": "del ",
     "library": "var_list.py",
     "varRefreshCmd": "print(var_dic_list())"
    },
    "r": {
     "delete_cmd_postfix": ") ",
     "delete_cmd_prefix": "rm(",
     "library": "var_list.r",
     "varRefreshCmd": "cat(var_dic_list()) "
    }
   },
   "types_to_exclude": [
    "module",
    "function",
    "builtin_function_or_method",
    "instance",
    "_Feature"
   ],
   "window_display": false
  }
 },
 "nbformat": 4,
 "nbformat_minor": 5
}
