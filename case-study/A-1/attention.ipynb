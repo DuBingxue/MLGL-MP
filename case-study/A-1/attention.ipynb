{
 "cells": [
  {
   "cell_type": "code",
   "execution_count": 184,
   "id": "d6d891d1",
   "metadata": {},
   "outputs": [],
   "source": [
    "from matplotlib import cm\n",
    "import matplotlib\n",
    "from rdkit.Chem.Draw import rdMolDraw2D\n",
    "from rdkit.Chem.Draw import IPythonConsole\n",
    "IPythonConsole.ipython_useSVG=True\n",
    "from IPython.display import SVG\n",
    "from collections import defaultdict\n",
    "\n",
    "\n",
    "def generate_highlited_figure(edge_weights, edge_index, mol):\n",
    "\n",
    "#    colors = [\"white\", \"honeydew\", \"greenyellow\"]\n",
    "#     colors = [\"white\", \"honeydew\", \"lawngreen\", \"chartreuse\", \"greenyellow\"]\n",
    "#     colors = [\"white\", \"honeydew\", \"lawngreen\", \"chartreuse\"]\n",
    "#    colors = [\"white\", \"azure\", \"lightcyan\", \"cyan\", \"aqua\"]\n",
    "#    colors = [\"white\",\"azure\",'mediumturquoise','lightseagreen','red']\n",
    "#    colors= [\"white\",\"honeydew\",'olivedrab','chocolate','red']\n",
    "#    colors = ['lightstellblue',\"white\",'black']\n",
    "#     colors = [\"white\", \"white\", \"white\", \"red\", \"black\"]\n",
    "    colors = [\"white\", \"white\", 'Tomato',\"black\"]\n",
    "#     colors = [\"white\", \"white\", \"gray\", \"black\"]\n",
    "#    colors = [\"white\",\"white\",\"white\",'black','black']\n",
    "    # Colors to selecte from: https://matplotlib.org/stable/gallery/color/named_colors.html#sphx-glr-gallery-color-named-colors-py \n",
    "\n",
    "    edge_index = edge_index.numpy()\n",
    "    edge_weights = edge_weights.numpy()\n",
    "    cmap1 = matplotlib.colors.LinearSegmentedColormap.from_list(\"mycmap\", colors)\n",
    "    hit_bonds = []\n",
    "    # bond_cols = {}\n",
    "    bond_cols = defaultdict(list)\n",
    "#     viridis = cm.get_cmap('BuGn')\n",
    "\n",
    "#     atom_cols = {max_ind: matplotlib.colors.to_rgb('red')}\n",
    "    for i, (aid1, aid2) in enumerate(edge_index):\n",
    "        bond = mol.GetBondBetweenAtoms(int(aid1),int(aid2))\n",
    "        if bond is None: continue \n",
    "        bond_id = bond.GetIdx()\n",
    "        hit_bonds.append(bond_id)\n",
    "        intensity = float(edge_weights[i])\n",
    "        bond_cols[bond_id] = max(intensity, bond_cols.get(bond_id, 0))\n",
    "\n",
    "#         i = 0\n",
    "#     for bond_id, intensity in bond_cols.items():\n",
    "#         mol.GetBondWithIdx(bond_id).SetProp('bondNote', f'{intensity:.2f}') \n",
    "    for bond_id, intensity in bond_cols.items():\n",
    "        mol.GetBondWithIdx(bond_id).SetProp('bondNote', f'{intensity:.2f}') \n",
    "    bond_cols = {k:  cmap1(v) for k, v in bond_cols.items()}\n",
    "    hit_bonds = list(set(hit_bonds))\n",
    "\n",
    "    d = rdMolDraw2D.MolDraw2DSVG(500, 500) # or MolDraw2DCairo to get PNGs\n",
    "    dos = d.drawOptions()\n",
    "    rdMolDraw2D.PrepareAndDrawMolecule(d, mol\n",
    "#                                         , highlightAtoms=[max_ind]\n",
    "                                        # , highlightAtomColors=atom_cols\n",
    "#                                         , highlightAtomColors= {max_ind: (.5, .5, 0.5)}\n",
    "                                        , highlightBonds=hit_bonds \n",
    "                                        ,highlightBondColors=bond_cols)\n",
    "    d.FinishDrawing()\n",
    "    raw = d.GetDrawingText()\n",
    "\n",
    "    return raw "
   ]
  },
  {
   "cell_type": "code",
   "execution_count": 185,
   "id": "9441568a",
   "metadata": {},
   "outputs": [],
   "source": [
    "from torch import tensor\n",
    "atts = tensor([[0.3292],\n",
    "        [0.5472],\n",
    "        [0.4365],\n",
    "        [0.2629],\n",
    "        [0.2751],\n",
    "        [0.2817],\n",
    "        [0.1421],\n",
    "        [0.4498],\n",
    "        [0.5190],\n",
    "        [0.5190],\n",
    "        [0.5377],\n",
    "        [0.2141],\n",
    "        [0.2141],\n",
    "        [0.1986],\n",
    "        [0.4528],\n",
    "        [0.4079],\n",
    "        [0.2817],\n",
    "        [0.2751],\n",
    "        [0.2310],\n",
    "        [0.4810],\n",
    "        [0.4810],\n",
    "        [0.4623]])\n",
    "edge_index = tensor([[0, 1],\n",
    "        [1, 0],\n",
    "        [1, 2],\n",
    "        [2, 1],\n",
    "        [2, 3],\n",
    "        [3, 2],\n",
    "        [3, 4],\n",
    "        [4, 3],\n",
    "        [4, 5],\n",
    "        [4, 6],\n",
    "        [4, 7],\n",
    "        [5, 4],\n",
    "        [6, 4],\n",
    "        [7, 4],\n",
    "        [0, 0],\n",
    "        [1, 1],\n",
    "        [2, 2],\n",
    "        [3, 3],\n",
    "        [4, 4],\n",
    "        [5, 5],\n",
    "        [6, 6],\n",
    "        [7, 7]])"
   ]
  },
  {
   "cell_type": "code",
   "execution_count": 197,
   "id": "ad4f6cdd",
   "metadata": {},
   "outputs": [
    {
     "data": {
      "image/png": "[encoded data removed]",
      "image/svg+xml": [
       "<?xml version='1.0' encoding='iso-8859-1'?>\n",
       "<svg version='1.1' baseProfile='full'\n",
       "              xmlns='http://www.w3.org/2000/svg'\n",
       "                      xmlns:rdkit='http://www.rdkit.org/xml'\n",
       "                      xmlns:xlink='http://www.w3.org/1999/xlink'\n",
       "                  xml:space='preserve'\n",
       "width='450px' height='150px' viewBox='0 0 450 150'>\n",
       "<!-- END OF HEADER -->\n",
       "<rect style='opacity:1.0;fill:#FFFFFF;stroke:none' width='450' height='150' x='0' y='0'> </rect>\n",
       "<path class='bond-0' d='M 148.973,6.81818 L 187.107,48.1537' style='fill:none;fill-rule:evenodd;stroke:#000000;stroke-width:2px;stroke-linecap:butt;stroke-linejoin:miter;stroke-opacity:1' />\n",
       "<path class='bond-1' d='M 187.107,48.1537 L 210.162,42.9609' style='fill:none;fill-rule:evenodd;stroke:#000000;stroke-width:2px;stroke-linecap:butt;stroke-linejoin:miter;stroke-opacity:1' />\n",
       "<path class='bond-1' d='M 210.162,42.9609 L 233.218,37.7682' style='fill:none;fill-rule:evenodd;stroke:#FF0000;stroke-width:2px;stroke-linecap:butt;stroke-linejoin:miter;stroke-opacity:1' />\n",
       "<path class='bond-6' d='M 187.107,48.1537 L 170.377,101.846' style='fill:none;fill-rule:evenodd;stroke:#000000;stroke-width:2px;stroke-linecap:butt;stroke-linejoin:miter;stroke-opacity:1' />\n",
       "<path class='bond-2' d='M 250.619,45.1696 L 261.61,57.0831' style='fill:none;fill-rule:evenodd;stroke:#FF0000;stroke-width:2px;stroke-linecap:butt;stroke-linejoin:miter;stroke-opacity:1' />\n",
       "<path class='bond-2' d='M 261.61,57.0831 L 272.6,68.9966' style='fill:none;fill-rule:evenodd;stroke:#FF7F00;stroke-width:2px;stroke-linecap:butt;stroke-linejoin:miter;stroke-opacity:1' />\n",
       "<path class='bond-3' d='M 291.424,74.3415 L 303.962,62.7747' style='fill:none;fill-rule:evenodd;stroke:#FF7F00;stroke-width:2px;stroke-linecap:butt;stroke-linejoin:miter;stroke-opacity:1' />\n",
       "<path class='bond-3' d='M 303.962,62.7747 L 316.5,51.2078' style='fill:none;fill-rule:evenodd;stroke:#FF0000;stroke-width:2px;stroke-linecap:butt;stroke-linejoin:miter;stroke-opacity:1' />\n",
       "<path class='bond-3' d='M 283.798,66.0744 L 296.336,54.5076' style='fill:none;fill-rule:evenodd;stroke:#FF7F00;stroke-width:2px;stroke-linecap:butt;stroke-linejoin:miter;stroke-opacity:1' />\n",
       "<path class='bond-3' d='M 296.336,54.5076 L 308.874,42.9407' style='fill:none;fill-rule:evenodd;stroke:#FF0000;stroke-width:2px;stroke-linecap:butt;stroke-linejoin:miter;stroke-opacity:1' />\n",
       "<path class='bond-4' d='M 272.6,84.0559 L 260.765,94.9743' style='fill:none;fill-rule:evenodd;stroke:#FF7F00;stroke-width:2px;stroke-linecap:butt;stroke-linejoin:miter;stroke-opacity:1' />\n",
       "<path class='bond-4' d='M 260.765,94.9743 L 248.93,105.893' style='fill:none;fill-rule:evenodd;stroke:#FF0000;stroke-width:2px;stroke-linecap:butt;stroke-linejoin:miter;stroke-opacity:1' />\n",
       "<path class='bond-5' d='M 287.611,85.2673 L 298.602,97.1808' style='fill:none;fill-rule:evenodd;stroke:#FF7F00;stroke-width:2px;stroke-linecap:butt;stroke-linejoin:miter;stroke-opacity:1' />\n",
       "<path class='bond-5' d='M 298.602,97.1808 L 309.592,109.094' style='fill:none;fill-rule:evenodd;stroke:#FF0000;stroke-width:2px;stroke-linecap:butt;stroke-linejoin:miter;stroke-opacity:1' />\n",
       "<path class='bond-7' d='M 169.141,96.3599 L 146.086,101.553' style='fill:none;fill-rule:evenodd;stroke:#000000;stroke-width:2px;stroke-linecap:butt;stroke-linejoin:miter;stroke-opacity:1' />\n",
       "<path class='bond-7' d='M 146.086,101.553 L 123.031,106.745' style='fill:none;fill-rule:evenodd;stroke:#FF0000;stroke-width:2px;stroke-linecap:butt;stroke-linejoin:miter;stroke-opacity:1' />\n",
       "<path class='bond-7' d='M 171.612,107.333 L 148.557,112.526' style='fill:none;fill-rule:evenodd;stroke:#000000;stroke-width:2px;stroke-linecap:butt;stroke-linejoin:miter;stroke-opacity:1' />\n",
       "<path class='bond-7' d='M 148.557,112.526 L 125.502,117.718' style='fill:none;fill-rule:evenodd;stroke:#FF0000;stroke-width:2px;stroke-linecap:butt;stroke-linejoin:miter;stroke-opacity:1' />\n",
       "<path class='bond-8' d='M 170.377,101.846 L 185.12,117.827' style='fill:none;fill-rule:evenodd;stroke:#000000;stroke-width:2px;stroke-linecap:butt;stroke-linejoin:miter;stroke-opacity:1' />\n",
       "<path class='bond-8' d='M 185.12,117.827 L 199.863,133.809' style='fill:none;fill-rule:evenodd;stroke:#FF0000;stroke-width:2px;stroke-linecap:butt;stroke-linejoin:miter;stroke-opacity:1' />\n",
       "<text x='233.218' y='45.1696' style='font-size:18px;font-style:normal;font-weight:normal;fill-opacity:1;stroke:none;font-family:sans-serif;text-anchor:start;fill:#FF0000' ><tspan>O</tspan></text>\n",
       "<text x='272.6' y='86.5051' style='font-size:18px;font-style:normal;font-weight:normal;fill-opacity:1;stroke:none;font-family:sans-serif;text-anchor:start;fill:#FF7F00' ><tspan>P</tspan></text>\n",
       "<text x='312.687' y='48.3712' style='font-size:18px;font-style:normal;font-weight:normal;fill-opacity:1;stroke:none;font-family:sans-serif;text-anchor:start;fill:#FF0000' ><tspan>O</tspan></text>\n",
       "<text x='221.892' y='124.639' style='font-size:18px;font-style:normal;font-weight:normal;fill-opacity:1;stroke:none;font-family:sans-serif;text-anchor:start;fill:#FF0000' ><tspan>HO</tspan></text>\n",
       "<text x='301.361' y='127.841' style='font-size:18px;font-style:normal;font-weight:normal;fill-opacity:1;stroke:none;font-family:sans-serif;text-anchor:start;fill:#FF0000' ><tspan>OH</tspan></text>\n",
       "<text x='106.758' y='123.577' style='font-size:18px;font-style:normal;font-weight:normal;fill-opacity:1;stroke:none;font-family:sans-serif;text-anchor:start;fill:#FF0000' ><tspan>O</tspan></text>\n",
       "<text x='191.632' y='152.555' style='font-size:18px;font-style:normal;font-weight:normal;fill-opacity:1;stroke:none;font-family:sans-serif;text-anchor:start;fill:#FF0000' ><tspan>OH</tspan></text>\n",
       "</svg>\n"
      ],
      "text/plain": [
       "<rdkit.Chem.rdchem.Mol at 0x7fa646a6c400>"
      ]
     },
     "execution_count": 197,
     "metadata": {},
     "output_type": "execute_result"
    }
   ],
   "source": [
    "from rdkit import Chem\n",
    "mol = Chem.MolFromSmiles('CC(OP(=O)(O)O)C(=O)O')\n",
    "mol"
   ]
  },
  {
   "cell_type": "code",
   "execution_count": 187,
   "id": "60e48fb7",
   "metadata": {},
   "outputs": [],
   "source": [
    "import numpy\n",
    "out = generate_highlited_figure(atts, edge_index, mol)"
   ]
  },
  {
   "cell_type": "code",
   "execution_count": 188,
   "id": "4936e3c9",
   "metadata": {},
   "outputs": [
    {
     "data": {
      "image/svg+xml": [
       "<svg xmlns=\"http://www.w3.org/2000/svg\" xmlns:rdkit=\"http://www.rdkit.org/xml\" xmlns:xlink=\"http://www.w3.org/1999/xlink\" version=\"1.1\" baseProfile=\"full\" xml:space=\"preserve\" width=\"500px\" height=\"500px\" viewBox=\"0 0 500 500\">\n",
       "<!-- END OF HEADER -->\n",
       "<rect style=\"opacity:1.0;fill:#FFFFFF;stroke:none\" width=\"500\" height=\"500\" x=\"0\" y=\"0\"> </rect>\n",
       "<path d=\"M 477.273,231.571 L 400.575,281.996\" style=\"fill:none;fill-rule:evenodd;stroke:#FF9A87;stroke-width:16px;stroke-linecap:butt;stroke-linejoin:miter;stroke-opacity:1\"/>\n",
       "<path d=\"M 400.575,281.996 L 318.557,240.786\" style=\"fill:none;fill-rule:evenodd;stroke:#FFCFC6;stroke-width:16px;stroke-linecap:butt;stroke-linejoin:miter;stroke-opacity:1\"/>\n",
       "<path d=\"M 318.557,240.786 L 241.859,291.21\" style=\"fill:none;fill-rule:evenodd;stroke:#FFFFFF;stroke-width:16px;stroke-linecap:butt;stroke-linejoin:miter;stroke-opacity:1\"/>\n",
       "<path d=\"M 241.859,291.21 L 159.841,250\" style=\"fill:none;fill-rule:evenodd;stroke:#FFC7BE;stroke-width:16px;stroke-linecap:butt;stroke-linejoin:miter;stroke-opacity:1\"/>\n",
       "<path d=\"M 159.841,250 L 118.631,332.018\" style=\"fill:none;fill-rule:evenodd;stroke:#FFA899;stroke-width:16px;stroke-linecap:butt;stroke-linejoin:miter;stroke-opacity:1\"/>\n",
       "<path d=\"M 159.841,250 L 201.051,167.982\" style=\"fill:none;fill-rule:evenodd;stroke:#FFA899;stroke-width:16px;stroke-linecap:butt;stroke-linejoin:miter;stroke-opacity:1\"/>\n",
       "<path d=\"M 159.841,250 L 77.8227,208.79\" style=\"fill:none;fill-rule:evenodd;stroke:#FF9F8E;stroke-width:16px;stroke-linecap:butt;stroke-linejoin:miter;stroke-opacity:1\"/>\n",
       "<path class=\"bond-0\" d=\"M 477.273,231.571 L 441.926,254.809\" style=\"fill:none;fill-rule:evenodd;stroke:#000000;stroke-width:2px;stroke-linecap:butt;stroke-linejoin:miter;stroke-opacity:1\"/>\n",
       "<path class=\"bond-0\" d=\"M 441.926,254.809 L 406.58,278.047\" style=\"fill:none;fill-rule:evenodd;stroke:#CCCC00;stroke-width:2px;stroke-linecap:butt;stroke-linejoin:miter;stroke-opacity:1\"/>\n",
       "<path class=\"bond-1\" d=\"M 394.569,278.978 L 356.563,259.882\" style=\"fill:none;fill-rule:evenodd;stroke:#CCCC00;stroke-width:2px;stroke-linecap:butt;stroke-linejoin:miter;stroke-opacity:1\"/>\n",
       "<path class=\"bond-1\" d=\"M 356.563,259.882 L 318.557,240.786\" style=\"fill:none;fill-rule:evenodd;stroke:#000000;stroke-width:2px;stroke-linecap:butt;stroke-linejoin:miter;stroke-opacity:1\"/>\n",
       "<path class=\"bond-2\" d=\"M 318.557,240.786 L 241.859,291.21\" style=\"fill:none;fill-rule:evenodd;stroke:#000000;stroke-width:2px;stroke-linecap:butt;stroke-linejoin:miter;stroke-opacity:1\"/>\n",
       "<path class=\"bond-3\" d=\"M 241.859,291.21 L 203.852,272.114\" style=\"fill:none;fill-rule:evenodd;stroke:#000000;stroke-width:2px;stroke-linecap:butt;stroke-linejoin:miter;stroke-opacity:1\"/>\n",
       "<path class=\"bond-3\" d=\"M 203.852,272.114 L 165.846,253.017\" style=\"fill:none;fill-rule:evenodd;stroke:#CCCC00;stroke-width:2px;stroke-linecap:butt;stroke-linejoin:miter;stroke-opacity:1\"/>\n",
       "<path class=\"bond-4\" d=\"M 147.871,253.379 L 131.034,286.888\" style=\"fill:none;fill-rule:evenodd;stroke:#CCCC00;stroke-width:2px;stroke-linecap:butt;stroke-linejoin:miter;stroke-opacity:1\"/>\n",
       "<path class=\"bond-4\" d=\"M 131.034,286.888 L 114.197,320.397\" style=\"fill:none;fill-rule:evenodd;stroke:#FF0000;stroke-width:2px;stroke-linecap:butt;stroke-linejoin:miter;stroke-opacity:1\"/>\n",
       "<path class=\"bond-4\" d=\"M 164.274,261.621 L 147.437,295.13\" style=\"fill:none;fill-rule:evenodd;stroke:#CCCC00;stroke-width:2px;stroke-linecap:butt;stroke-linejoin:miter;stroke-opacity:1\"/>\n",
       "<path class=\"bond-4\" d=\"M 147.437,295.13 L 130.601,328.639\" style=\"fill:none;fill-rule:evenodd;stroke:#FF0000;stroke-width:2px;stroke-linecap:butt;stroke-linejoin:miter;stroke-opacity:1\"/>\n",
       "<path class=\"bond-5\" d=\"M 171.811,246.621 L 188.648,213.112\" style=\"fill:none;fill-rule:evenodd;stroke:#CCCC00;stroke-width:2px;stroke-linecap:butt;stroke-linejoin:miter;stroke-opacity:1\"/>\n",
       "<path class=\"bond-5\" d=\"M 188.648,213.112 L 205.484,179.603\" style=\"fill:none;fill-rule:evenodd;stroke:#FF0000;stroke-width:2px;stroke-linecap:butt;stroke-linejoin:miter;stroke-opacity:1\"/>\n",
       "<path class=\"bond-5\" d=\"M 155.407,238.379 L 172.244,204.87\" style=\"fill:none;fill-rule:evenodd;stroke:#CCCC00;stroke-width:2px;stroke-linecap:butt;stroke-linejoin:miter;stroke-opacity:1\"/>\n",
       "<path class=\"bond-5\" d=\"M 172.244,204.87 L 189.081,171.361\" style=\"fill:none;fill-rule:evenodd;stroke:#FF0000;stroke-width:2px;stroke-linecap:butt;stroke-linejoin:miter;stroke-opacity:1\"/>\n",
       "<path class=\"bond-6\" d=\"M 153.835,246.983 L 122.582,231.279\" style=\"fill:none;fill-rule:evenodd;stroke:#CCCC00;stroke-width:2px;stroke-linecap:butt;stroke-linejoin:miter;stroke-opacity:1\"/>\n",
       "<path class=\"bond-6\" d=\"M 122.582,231.279 L 91.3281,215.576\" style=\"fill:none;fill-rule:evenodd;stroke:#FF0000;stroke-width:2px;stroke-linecap:butt;stroke-linejoin:miter;stroke-opacity:1\"/>\n",
       "<text x=\"394.569\" y=\"289.496\" style=\"font-size:15px;font-style:normal;font-weight:normal;fill-opacity:1;stroke:none;font-family:sans-serif;text-anchor:start;fill:#CCCC00\"><tspan>S</tspan></text>\n",
       "<text x=\"153.835\" y=\"257.5\" style=\"font-size:15px;font-style:normal;font-weight:normal;fill-opacity:1;stroke:none;font-family:sans-serif;text-anchor:start;fill:#CCCC00\"><tspan>S</tspan></text>\n",
       "<text x=\"111.626\" y=\"339.518\" style=\"font-size:15px;font-style:normal;font-weight:normal;fill-opacity:1;stroke:none;font-family:sans-serif;text-anchor:start;fill:#FF0000\"><tspan>O</tspan></text>\n",
       "<text x=\"194.046\" y=\"175.482\" style=\"font-size:15px;font-style:normal;font-weight:normal;fill-opacity:1;stroke:none;font-family:sans-serif;text-anchor:start;fill:#FF0000\"><tspan>O</tspan></text>\n",
       "<text x=\"64.3173\" y=\"216.29\" style=\"font-size:15px;font-style:normal;font-weight:normal;fill-opacity:1;stroke:none;font-family:sans-serif;text-anchor:start;fill:#FF0000\"><tspan>HO</tspan></text>\n",
       "</svg>"
      ],
      "text/plain": [
       "<IPython.core.display.SVG object>"
      ]
     },
     "execution_count": 188,
     "metadata": {},
     "output_type": "execute_result"
    }
   ],
   "source": [
    "SVG(out)"
   ]
  },
  {
   "cell_type": "code",
   "execution_count": 189,
   "id": "b90f4cf3",
   "metadata": {},
   "outputs": [],
   "source": [
    "with open('fig.svg', 'w') as f:\n",
    "    f.write(out)"
   ]
  },
  {
   "cell_type": "code",
   "execution_count": null,
   "id": "4f42b172",
   "metadata": {},
   "outputs": [],
   "source": []
  },
  {
   "cell_type": "code",
   "execution_count": null,
   "id": "4507a082",
   "metadata": {},
   "outputs": [],
   "source": []
  }
 ],
 "metadata": {
  "kernelspec": {
   "display_name": "Python 3",
   "language": "python",
   "name": "python3"
  },
  "language_info": {
   "codemirror_mode": {
    "name": "ipython",
    "version": 3
   },
   "file_extension": ".py",
   "mimetype": "text/x-python",
   "name": "python",
   "nbconvert_exporter": "python",
   "pygments_lexer": "ipython3",
   "version": "3.8.10"
  },
  "toc": {
   "base_numbering": 1,
   "nav_menu": {},
   "number_sections": true,
   "sideBar": true,
   "skip_h1_title": false,
   "title_cell": "Table of Contents",
   "title_sidebar": "Contents",
   "toc_cell": false,
   "toc_position": {},
   "toc_section_display": true,
   "toc_window_display": false
  },
  "varInspector": {
   "cols": {
    "lenName": 16,
    "lenType": 16,
    "lenVar": 40
   },
   "kernels_config": {
    "python": {
     "delete_cmd_postfix": "",
     "delete_cmd_prefix": "del ",
     "library": "var_list.py",
     "varRefreshCmd": "print(var_dic_list())"
    },
    "r": {
     "delete_cmd_postfix": ") ",
     "delete_cmd_prefix": "rm(",
     "library": "var_list.r",
     "varRefreshCmd": "cat(var_dic_list()) "
    }
   },
   "types_to_exclude": [
    "module",
    "function",
    "builtin_function_or_method",
    "instance",
    "_Feature"
   ],
   "window_display": false
  }
 },
 "nbformat": 4,
 "nbformat_minor": 5
}
